{
 "cells": [
  {
   "cell_type": "code",
   "execution_count": 51,
   "id": "5d7ef5f4",
   "metadata": {},
   "outputs": [],
   "source": [
    "import os \n",
    "\n",
    "import numpy as np\n",
    "np.random.seed(42)\n",
    "import pandas as pd\n",
    "\n",
    "import scvelo as scv\n",
    "import scanpy as sc\n",
    "\n",
    "import cytopath\n",
    "from scipy import sparse\n",
    "from scipy import stats\n",
    "from scipy.spatial.distance import cosine\n",
    "\n",
    "import seaborn as sns\n",
    "from matplotlib import pyplot as plt\n",
    "import matplotlib\n",
    "\n",
    "%config Completer.use_jedi = False"
   ]
  },
  {
   "cell_type": "code",
   "execution_count": 2,
   "id": "f53c64fd",
   "metadata": {},
   "outputs": [],
   "source": [
    "DATA_PATH = \"../data/\"\n",
    "OUTPUT_PATH = \"../output/\"\n",
    "os.makedirs(OUTPUT_PATH, exist_ok=True)"
   ]
  },
  {
   "cell_type": "code",
   "execution_count": 3,
   "id": "53d1a796",
   "metadata": {},
   "outputs": [
    {
     "data": {
      "text/plain": [
       "AnnData object with n_obs × n_vars = 13410 × 7170\n",
       "    obs: 'sampleID', 'barcode', 'sample_type', 'timepoint', 'n_genes_by_counts', 'log1p_n_genes_by_counts', 'total_counts', 'log1p_total_counts', 'pct_counts_in_top_20_genes', 'total_counts_mitochondrial', 'log1p_total_counts_mitochondrial', 'pct_counts_mitochondrial', 'total_counts_ribosomal', 'log1p_total_counts_ribosomal', 'pct_counts_ribosomal', 'initial_size_unspliced', 'initial_size_spliced', 'initial_size', 'n_genes', 'n_counts', 'phase', 'S_score', 'G2M_score', 'score_diff', 'leiden', 'velocity_self_transition', 'root_cells', 'end_points', 'velocity_pseudotime', 'latent_time', 'velocity_length', 'velocity_confidence', 'velocity_confidence_transition', 'annot'\n",
       "    var: 'Accession', 'Chromosome', 'End', 'Start', 'Strand', 'mitochondrial', 'ribosomal', 'n_cells_by_counts', 'mean_counts', 'log1p_mean_counts', 'pct_dropout_by_counts', 'total_counts', 'log1p_total_counts', 'cell_cycle_genes', 'gene_count_corr', 'means', 'dispersions', 'dispersions_norm', 'highly_variable', 'mean', 'std', 'fit_r2', 'fit_alpha', 'fit_beta', 'fit_gamma', 'fit_t_', 'fit_scaling', 'fit_std_u', 'fit_std_s', 'fit_likelihood', 'fit_u0', 'fit_s0', 'fit_pval_steady', 'fit_steady_u', 'fit_steady_s', 'fit_variance', 'fit_alignment_scaling', 'velocity_gamma', 'velocity_qreg_ratio', 'velocity_r2', 'velocity_genes'\n",
       "    uns: 'annot_colors', 'leiden', 'leiden_colors', 'neighbors', 'pca', 'phase_colors', 'rank_genes_groups', 'recover_dynamics', 'sampleID_colors', 'umap', 'velocity_graph', 'velocity_graph_neg', 'velocity_params'\n",
       "    obsm: 'X_pca', 'X_umap', 'velocity_umap'\n",
       "    varm: 'PCs', 'loss'\n",
       "    layers: 'Ms', 'Mu', 'ambiguous', 'counts', 'fit_t', 'fit_tau', 'fit_tau_', 'log1p', 'matrix', 'spliced', 'unspliced', 'variance_velocity', 'velocity'\n",
       "    obsp: 'connectivities', 'distances'"
      ]
     },
     "execution_count": 3,
     "metadata": {},
     "output_type": "execute_result"
    }
   ],
   "source": [
    "adata = sc.read_h5ad(os.path.join(DATA_PATH, \"tex_data_chronic_annotated.h5ad\"))\n",
    "adata"
   ]
  },
  {
   "cell_type": "code",
   "execution_count": 6,
   "id": "1f67fa8e",
   "metadata": {},
   "outputs": [],
   "source": [
    "# Create dummy cluster as endpoint for undirected simulations\n",
    "adata.obs[\"dummy\"] = \"1\"\n",
    "adata.obs.dummy = adata.obs.dummy.astype(\"category\")"
   ]
  },
  {
   "cell_type": "code",
   "execution_count": 9,
   "id": "4d29c134",
   "metadata": {},
   "outputs": [
    {
     "name": "stdout",
     "output_type": "stream",
     "text": [
      "\n",
      "Sampling round: 0\n"
     ]
    },
    {
     "data": {
      "application/vnd.jupyter.widget-view+json": {
       "model_id": "e83e41ad22e84228b97107edbf319a6a",
       "version_major": 2,
       "version_minor": 0
      },
      "text/plain": [
       "  0%|          | 0/275 [00:00<?, ?it/s]"
      ]
     },
     "metadata": {},
     "output_type": "display_data"
    },
    {
     "name": "stdout",
     "output_type": "stream",
     "text": [
      "Sampling done.\n"
     ]
    }
   ],
   "source": [
    "# Run cytopath without fixed endpoint\n",
    "adata.uns[\"T_forward\"] = scv.utils.get_transition_matrix(adata, self_transitions=False)\n",
    "\n",
    "if sparse.issparse(adata.X):\n",
    "    adata.X = adata.X.toarray()\n",
    "\n",
    "cytopath.sampling(adata, cluster_key='dummy',\n",
    "                  max_steps=1000,\n",
    "                  traj_number=10000,\n",
    "                  sim_number=10000,\n",
    "                  end_point_probability=0.99,\n",
    "                  end_clusters=[\"1\"],\n",
    "                  root_cell_probability=0.99,\n",
    "                  min_clusters=1, # min. number of clusters a sim must visit\n",
    "                  auto_adjust=False, # Chooses number of simulations and max_steps\n",
    "                  num_cores=os.cpu_count())"
   ]
  },
  {
   "cell_type": "code",
   "execution_count": 27,
   "id": "962fbce9",
   "metadata": {},
   "outputs": [],
   "source": [
    "def check_convergence_criteria(eps_history, tol=1e-5):\n",
    "    differences = [abs(eps_history[i+1]-eps_history[i]) for i in range(len(eps_history)-1)]\n",
    "    # return first element that is under tolerance threshold\n",
    "    try:\n",
    "        return 1 + len(differences) - next(i for i, j in enumerate(differences[::-1]) if j > tol)\n",
    "    except:\n",
    "        return None"
   ]
  },
  {
   "cell_type": "code",
   "execution_count": 67,
   "id": "878c31fe",
   "metadata": {},
   "outputs": [
    {
     "data": {
      "text/plain": [
       "100"
      ]
     },
     "execution_count": 67,
     "metadata": {},
     "output_type": "execute_result"
    }
   ],
   "source": [
    "# Check convergence of cluster proportions to stationary state\n",
    "tol = 1e-3\n",
    "cluster = \"annot\"\n",
    "\n",
    "stationary_state_probability = pd.DataFrame((adata.obs.end_points / adata.obs.end_points.sum())\n",
    "                                            .rename(\"probability\"))\n",
    "stationary_state_probability[\"cluster\"] = adata.obs[cluster].astype(\"category\")\n",
    "stationary_state_probability_by_cluster = stationary_state_probability.groupby(\"cluster\").sum()\n",
    "\n",
    "cluster_sequences = adata.obs[cluster].astype(str).values[adata.uns[\"samples\"][\"cell_sequences\"]]\n",
    "cluster_proportions = pd.DataFrame(data=np.zeros((len(stationary_state_probability_by_cluster), 1000),\n",
    "                                                 dtype=np.float),\n",
    "                                   index=stationary_state_probability_by_cluster.index)\n",
    "for cat in stationary_state_probability_by_cluster.index:\n",
    "    cluster_proportions.loc[cat, :] = (cluster_sequences == cat).mean(axis=0)\n",
    "eps_history = cluster_proportions.apply(lambda x: cosine(x.values.flatten(),\n",
    "                                                         stationary_state_probability_by_cluster.values.flatten())).values\n",
    "check_convergence_criteria(eps_history, tol=tol)"
   ]
  },
  {
   "cell_type": "code",
   "execution_count": 68,
   "id": "c7b7fa18",
   "metadata": {},
   "outputs": [
    {
     "data": {
      "text/html": [
       "<div>\n",
       "<style scoped>\n",
       "    .dataframe tbody tr th:only-of-type {\n",
       "        vertical-align: middle;\n",
       "    }\n",
       "\n",
       "    .dataframe tbody tr th {\n",
       "        vertical-align: top;\n",
       "    }\n",
       "\n",
       "    .dataframe thead th {\n",
       "        text-align: right;\n",
       "    }\n",
       "</style>\n",
       "<table border=\"1\" class=\"dataframe\">\n",
       "  <thead>\n",
       "    <tr style=\"text-align: right;\">\n",
       "      <th></th>\n",
       "      <th>step</th>\n",
       "      <th>cluster</th>\n",
       "      <th>prop</th>\n",
       "    </tr>\n",
       "  </thead>\n",
       "  <tbody>\n",
       "    <tr>\n",
       "      <th>0</th>\n",
       "      <td>0</td>\n",
       "      <td>early</td>\n",
       "      <td>1.0000</td>\n",
       "    </tr>\n",
       "    <tr>\n",
       "      <th>1</th>\n",
       "      <td>0</td>\n",
       "      <td>eff_like</td>\n",
       "      <td>0.0000</td>\n",
       "    </tr>\n",
       "    <tr>\n",
       "      <th>2</th>\n",
       "      <td>0</td>\n",
       "      <td>int_exh</td>\n",
       "      <td>0.0000</td>\n",
       "    </tr>\n",
       "    <tr>\n",
       "      <th>3</th>\n",
       "      <td>0</td>\n",
       "      <td>mem_like</td>\n",
       "      <td>0.0000</td>\n",
       "    </tr>\n",
       "    <tr>\n",
       "      <th>4</th>\n",
       "      <td>0</td>\n",
       "      <td>prolif</td>\n",
       "      <td>0.0000</td>\n",
       "    </tr>\n",
       "    <tr>\n",
       "      <th>...</th>\n",
       "      <td>...</td>\n",
       "      <td>...</td>\n",
       "      <td>...</td>\n",
       "    </tr>\n",
       "    <tr>\n",
       "      <th>5995</th>\n",
       "      <td>999</td>\n",
       "      <td>eff_like</td>\n",
       "      <td>0.0283</td>\n",
       "    </tr>\n",
       "    <tr>\n",
       "      <th>5996</th>\n",
       "      <td>999</td>\n",
       "      <td>int_exh</td>\n",
       "      <td>0.0000</td>\n",
       "    </tr>\n",
       "    <tr>\n",
       "      <th>5997</th>\n",
       "      <td>999</td>\n",
       "      <td>mem_like</td>\n",
       "      <td>0.0727</td>\n",
       "    </tr>\n",
       "    <tr>\n",
       "      <th>5998</th>\n",
       "      <td>999</td>\n",
       "      <td>prolif</td>\n",
       "      <td>0.0000</td>\n",
       "    </tr>\n",
       "    <tr>\n",
       "      <th>5999</th>\n",
       "      <td>999</td>\n",
       "      <td>term_exh</td>\n",
       "      <td>0.8990</td>\n",
       "    </tr>\n",
       "  </tbody>\n",
       "</table>\n",
       "<p>6000 rows × 3 columns</p>\n",
       "</div>"
      ],
      "text/plain": [
       "      step   cluster    prop\n",
       "0        0     early  1.0000\n",
       "1        0  eff_like  0.0000\n",
       "2        0   int_exh  0.0000\n",
       "3        0  mem_like  0.0000\n",
       "4        0    prolif  0.0000\n",
       "...    ...       ...     ...\n",
       "5995   999  eff_like  0.0283\n",
       "5996   999   int_exh  0.0000\n",
       "5997   999  mem_like  0.0727\n",
       "5998   999    prolif  0.0000\n",
       "5999   999  term_exh  0.8990\n",
       "\n",
       "[6000 rows x 3 columns]"
      ]
     },
     "execution_count": 68,
     "metadata": {},
     "output_type": "execute_result"
    }
   ],
   "source": [
    "cluster_prop_per_step = \\\n",
    "    cluster_proportions.transpose().stack().reset_index().rename(columns={\"level_0\": \"step\", 0: \"prop\"})\n",
    "cluster_prop_per_step"
   ]
  },
  {
   "cell_type": "code",
   "execution_count": 69,
   "id": "346fe956",
   "metadata": {},
   "outputs": [],
   "source": [
    "annot_colors = dict(zip([\"early\", \"eff_like\", \"int_exh\", \"mem_like\", \"prolif\", \"term_exh\"],\n",
    "                        adata.uns[\"annot_colors\"]))\n",
    "leiden_colors = dict(zip(adata.obs.leiden.cat.categories, adata.uns[\"leiden_colors\"]))"
   ]
  },
  {
   "cell_type": "code",
   "execution_count": 70,
   "id": "c3b8b30b",
   "metadata": {},
   "outputs": [
    {
     "data": {
      "image/png": "[encoded data removed]",
      "text/plain": [
       "<Figure size 600x400 with 1 Axes>"
      ]
     },
     "metadata": {},
     "output_type": "display_data"
    }
   ],
   "source": [
    "fig, ax = plt.subplots(figsize=(6, 4))\n",
    "sns.lineplot(x=\"step\", y=\"prop\", hue=\"cluster\",\n",
    "             data=cluster_prop_per_step,\n",
    "             palette=annot_colors, ax=ax)\n",
    "ax.set_xlabel(\"simulation step\")\n",
    "ax.set_ylabel(\"proportion\")\n",
    "# handles, labels = ax.get_legend_handles_labels()\n",
    "# ax.legend(handles=handles, labels=[\"early\", \"effector-\\nlike\", \"exhausted\", \"memory-\\nlike\",\n",
    "#                                    \"proliferating\", \"terminally-\\nexhausted\"],\n",
    "#           loc=\"center left\", frameon=False, bbox_to_anchor=(.95, .5))\n",
    "# ax.axvline(sampling_dict[m][\"sampling_params\"][\"convergence\"], color=\"lightgrey\", linestyle=\"--\")\n",
    "#sns.move_legend(ax, \"center left\", frameon=False, bbox_to_anchor=(.95, .5), title=None)\n",
    "\n",
    "fig.tight_layout()\n",
    "sns.despine()"
   ]
  },
  {
   "cell_type": "code",
   "execution_count": 52,
   "id": "b9c3ecf2",
   "metadata": {},
   "outputs": [],
   "source": [
    "def calc_chain_proportion(cluster_sequences: np.ndarray, through: str, end_point: str, norm_by=\"end_point\"):\n",
    "    num_chains = (np.any(cluster_sequences[:,:-1] == through, axis=1) & (cluster_sequences[:,-1] == end_point)).sum()\n",
    "    if norm_by == \"end_point\":\n",
    "        total = np.sum(cluster_sequences[:,-1] == end_point)\n",
    "        prop_chains = num_chains / total\n",
    "    elif norm_by == \"through\":\n",
    "        total = np.sum(np.any(cluster_sequences == through, axis=1))\n",
    "        prop_chains = num_chains / total\n",
    "    else:\n",
    "        raise ValueError(\"norm_by must be one of [through, end_point]\")\n",
    "    return num_chains, prop_chains, total\n",
    "\n",
    "def bootstrap(cluster_sequences: np.ndarray, through: str, end_point: str, norm_by=\"through\", n_resamples=100):\n",
    "    def make_1d_sample(cluster_sequences, through, end_point, norm_by):\n",
    "        through_x_end_y = np.any(cluster_sequences[:,:-1] == through, axis=1) & (cluster_sequences[:,-1] == end_point)\n",
    "        through_x = np.any(cluster_sequences == through, axis=1)\n",
    "        end_y = cluster_sequences[:,-1] == end_point\n",
    "        if norm_by == \"through\":\n",
    "            return through_x_end_y, through_x\n",
    "        elif norm_by == \"end_point\":\n",
    "            return through_x_end_y, end_y\n",
    "        else:\n",
    "            raise ValueError(\"norm_by must be one of [through, end_point]\")\n",
    "    def statistic(x, y):\n",
    "        return np.sum(x)/np.sum(y)\n",
    "    res = stats.bootstrap(make_1d_sample(cluster_sequences, through, end_point, norm_by),\n",
    "                          statistic=statistic, n_resamples=n_resamples,\n",
    "                          random_state=42, paired=True, vectorized=False)\n",
    "    return res.confidence_interval, res.standard_error"
   ]
  },
  {
   "cell_type": "code",
   "execution_count": 71,
   "id": "20dadc93",
   "metadata": {},
   "outputs": [
    {
     "data": {
      "text/html": [
       "<div>\n",
       "<style scoped>\n",
       "    .dataframe tbody tr th:only-of-type {\n",
       "        vertical-align: middle;\n",
       "    }\n",
       "\n",
       "    .dataframe tbody tr th {\n",
       "        vertical-align: top;\n",
       "    }\n",
       "\n",
       "    .dataframe thead th {\n",
       "        text-align: right;\n",
       "    }\n",
       "</style>\n",
       "<table border=\"1\" class=\"dataframe\">\n",
       "  <thead>\n",
       "    <tr style=\"text-align: right;\">\n",
       "      <th></th>\n",
       "      <th>through</th>\n",
       "      <th>end_point</th>\n",
       "      <th>norm_by</th>\n",
       "      <th>num</th>\n",
       "      <th>total</th>\n",
       "      <th>prop</th>\n",
       "      <th>ci_low</th>\n",
       "      <th>ci_high</th>\n",
       "      <th>se</th>\n",
       "      <th>ci_low_count</th>\n",
       "      <th>ci_high_count</th>\n",
       "    </tr>\n",
       "  </thead>\n",
       "  <tbody>\n",
       "    <tr>\n",
       "      <th>0</th>\n",
       "      <td>mem_like</td>\n",
       "      <td>mem_like</td>\n",
       "      <td>through</td>\n",
       "      <td>724</td>\n",
       "      <td>8245</td>\n",
       "      <td>0.087811</td>\n",
       "      <td>0.081667</td>\n",
       "      <td>0.093625</td>\n",
       "      <td>0.003111</td>\n",
       "      <td>673.0</td>\n",
       "      <td>772.0</td>\n",
       "    </tr>\n",
       "    <tr>\n",
       "      <th>1</th>\n",
       "      <td>mem_like</td>\n",
       "      <td>mem_like</td>\n",
       "      <td>end_point</td>\n",
       "      <td>724</td>\n",
       "      <td>727</td>\n",
       "      <td>0.995873</td>\n",
       "      <td>0.989054</td>\n",
       "      <td>0.998675</td>\n",
       "      <td>0.002362</td>\n",
       "      <td>719.0</td>\n",
       "      <td>726.0</td>\n",
       "    </tr>\n",
       "    <tr>\n",
       "      <th>2</th>\n",
       "      <td>mem_like</td>\n",
       "      <td>term_exh</td>\n",
       "      <td>through</td>\n",
       "      <td>7283</td>\n",
       "      <td>8245</td>\n",
       "      <td>0.883323</td>\n",
       "      <td>0.876217</td>\n",
       "      <td>0.890091</td>\n",
       "      <td>0.003605</td>\n",
       "      <td>7224.0</td>\n",
       "      <td>7339.0</td>\n",
       "    </tr>\n",
       "    <tr>\n",
       "      <th>3</th>\n",
       "      <td>mem_like</td>\n",
       "      <td>term_exh</td>\n",
       "      <td>end_point</td>\n",
       "      <td>7283</td>\n",
       "      <td>8990</td>\n",
       "      <td>0.810122</td>\n",
       "      <td>0.802826</td>\n",
       "      <td>0.818475</td>\n",
       "      <td>0.004073</td>\n",
       "      <td>7217.0</td>\n",
       "      <td>7358.0</td>\n",
       "    </tr>\n",
       "    <tr>\n",
       "      <th>4</th>\n",
       "      <td>term_exh</td>\n",
       "      <td>mem_like</td>\n",
       "      <td>through</td>\n",
       "      <td>727</td>\n",
       "      <td>10000</td>\n",
       "      <td>0.072700</td>\n",
       "      <td>0.067667</td>\n",
       "      <td>0.077667</td>\n",
       "      <td>0.002580</td>\n",
       "      <td>677.0</td>\n",
       "      <td>777.0</td>\n",
       "    </tr>\n",
       "    <tr>\n",
       "      <th>5</th>\n",
       "      <td>term_exh</td>\n",
       "      <td>mem_like</td>\n",
       "      <td>end_point</td>\n",
       "      <td>727</td>\n",
       "      <td>727</td>\n",
       "      <td>1.000000</td>\n",
       "      <td>NaN</td>\n",
       "      <td>NaN</td>\n",
       "      <td>0.000000</td>\n",
       "      <td>NaN</td>\n",
       "      <td>NaN</td>\n",
       "    </tr>\n",
       "    <tr>\n",
       "      <th>6</th>\n",
       "      <td>term_exh</td>\n",
       "      <td>term_exh</td>\n",
       "      <td>through</td>\n",
       "      <td>8990</td>\n",
       "      <td>10000</td>\n",
       "      <td>0.899000</td>\n",
       "      <td>0.893100</td>\n",
       "      <td>0.904600</td>\n",
       "      <td>0.003029</td>\n",
       "      <td>8931.0</td>\n",
       "      <td>9046.0</td>\n",
       "    </tr>\n",
       "    <tr>\n",
       "      <th>7</th>\n",
       "      <td>term_exh</td>\n",
       "      <td>term_exh</td>\n",
       "      <td>end_point</td>\n",
       "      <td>8990</td>\n",
       "      <td>8990</td>\n",
       "      <td>1.000000</td>\n",
       "      <td>NaN</td>\n",
       "      <td>NaN</td>\n",
       "      <td>0.000000</td>\n",
       "      <td>NaN</td>\n",
       "      <td>NaN</td>\n",
       "    </tr>\n",
       "  </tbody>\n",
       "</table>\n",
       "</div>"
      ],
      "text/plain": [
       "    through end_point    norm_by   num  total      prop    ci_low   ci_high  \\\n",
       "0  mem_like  mem_like    through   724   8245  0.087811  0.081667  0.093625   \n",
       "1  mem_like  mem_like  end_point   724    727  0.995873  0.989054  0.998675   \n",
       "2  mem_like  term_exh    through  7283   8245  0.883323  0.876217  0.890091   \n",
       "3  mem_like  term_exh  end_point  7283   8990  0.810122  0.802826  0.818475   \n",
       "4  term_exh  mem_like    through   727  10000  0.072700  0.067667  0.077667   \n",
       "5  term_exh  mem_like  end_point   727    727  1.000000       NaN       NaN   \n",
       "6  term_exh  term_exh    through  8990  10000  0.899000  0.893100  0.904600   \n",
       "7  term_exh  term_exh  end_point  8990   8990  1.000000       NaN       NaN   \n",
       "\n",
       "         se  ci_low_count  ci_high_count  \n",
       "0  0.003111         673.0          772.0  \n",
       "1  0.002362         719.0          726.0  \n",
       "2  0.003605        7224.0         7339.0  \n",
       "3  0.004073        7217.0         7358.0  \n",
       "4  0.002580         677.0          777.0  \n",
       "5  0.000000           NaN            NaN  \n",
       "6  0.003029        8931.0         9046.0  \n",
       "7  0.000000           NaN            NaN  "
      ]
     },
     "execution_count": 71,
     "metadata": {},
     "output_type": "execute_result"
    }
   ],
   "source": [
    "res = {\"through\": [], \"end_point\": [], \"norm_by\": [], \"num\": [],\n",
    "       \"total\": [], \"prop\": [], \"ci_low\": [], \"ci_high\": [], \"se\": []}\n",
    "end_states = [\"mem_like\", \"term_exh\"]\n",
    "\n",
    "for through in end_states:\n",
    "    for end_point in end_states:\n",
    "        for norm_by in [\"through\", \"end_point\"]:\n",
    "            num, prop, total = calc_chain_proportion(cluster_sequences, through=through,\n",
    "                                                     end_point=end_point, norm_by=norm_by)\n",
    "            res[\"through\"].append(through)\n",
    "            res[\"end_point\"].append(end_point)\n",
    "            res[\"norm_by\"].append(norm_by)\n",
    "            res[\"num\"].append(num)\n",
    "            res[\"total\"].append(total)\n",
    "            res[\"prop\"].append(prop)\n",
    "            (ci_low, ci_high), se = bootstrap(cluster_sequences, through=through, end_point=end_point,\n",
    "                                              norm_by=norm_by, n_resamples=1000)\n",
    "            res[\"ci_low\"].append(ci_low)\n",
    "            res[\"ci_high\"].append(ci_high)\n",
    "            res[\"se\"].append(se)\n",
    "\n",
    "res = pd.DataFrame(res)\n",
    "res[\"ci_low_count\"] = (res.ci_low * res.total).round()\n",
    "res[\"ci_high_count\"] = (res.ci_high * res.total).round()\n",
    "res"
   ]
  },
  {
   "cell_type": "code",
   "execution_count": 54,
   "id": "c217523a",
   "metadata": {},
   "outputs": [],
   "source": [
    "def errplot(x, y, hue, lb, ub, ax=None, **kwargs):\n",
    "    data = kwargs.pop(\"data\").copy()\n",
    "    data[lb] = data[y] - data[lb]\n",
    "    data[ub] = data[ub] - data[y]\n",
    "    err_low = data.pivot(index=x, columns=hue, values=lb)\n",
    "    err_high = data.pivot(index=x, columns=hue, values=ub)\n",
    "    err = []\n",
    "    for col in err_low:\n",
    "        err.append([err_low[col].values, err_high[col].values])\n",
    "    err = np.abs(err)\n",
    "    p = data.pivot(index=x, columns=hue, values=y)\n",
    "    if ax is None:\n",
    "        ax=plt.gca()\n",
    "    p.plot(kind=\"bar\", yerr=err, ax=ax, **kwargs)"
   ]
  },
  {
   "cell_type": "code",
   "execution_count": 65,
   "id": "3b6f2f6b",
   "metadata": {},
   "outputs": [],
   "source": [
    "labels = [\"memory-\\nlike\", \"terminally-\\nexhausted\"]"
   ]
  },
  {
   "cell_type": "code",
   "execution_count": 72,
   "id": "099f0afe",
   "metadata": {},
   "outputs": [
    {
     "data": {
      "image/png": "[encoded data removed]",
      "text/plain": [
       "<Figure size 500x600 with 2 Axes>"
      ]
     },
     "metadata": {},
     "output_type": "display_data"
    }
   ],
   "source": [
    "fig, axs = plt.subplots(2, 1, figsize=(5, 6))\n",
    "\n",
    "legend_kwargs = {\"bbox_to_anchor\": (.95, .5), \"loc\": \"center left\", \"frameon\": False,\n",
    "                 \"fontsize\": 10, \"markerscale\": .8, \"title_fontsize\": 10,\n",
    "                 \"labels\": labels}\n",
    "\n",
    "errplot(\"through\", \"num\", \"end_point\", \"ci_low_count\", \"ci_high_count\", ax=axs[0],\n",
    "        data=res[res.norm_by == \"through\"], width=.8,\n",
    "        color=[annot_colors[\"mem_like\"], annot_colors[\"term_exh\"]], xlabel=\"through\", ylabel=\"count\")\n",
    "axs[0].tick_params(rotation=0)\n",
    "axs[0].set_xticklabels(labels)\n",
    "axs[0].legend(title=\"end point\", **legend_kwargs)\n",
    "\n",
    "\n",
    "errplot(\"through\", \"prop\", \"end_point\", \"ci_low\", \"ci_high\", ax=axs[1],\n",
    "        data=res[res.norm_by == \"through\"], width=.8,\n",
    "        color=[annot_colors[\"mem_like\"], annot_colors[\"term_exh\"]], xlabel=\"through\", ylabel=\"proportion\")\n",
    "axs[1].tick_params(rotation=0)\n",
    "axs[1].set_xticklabels(labels)\n",
    "axs[1].legend(title=\"end point\", **legend_kwargs)\n",
    "\n",
    "sns.despine()\n",
    "fig.tight_layout()"
   ]
  },
  {
   "cell_type": "code",
   "execution_count": null,
   "id": "c690435f",
   "metadata": {},
   "outputs": [],
   "source": []
  }
 ],
 "metadata": {
  "kernelspec": {
   "display_name": "cytopath_new",
   "language": "python",
   "name": "cytopath_new"
  },
  "language_info": {
   "codemirror_mode": {
    "name": "ipython",
    "version": 3
   },
   "file_extension": ".py",
   "mimetype": "text/x-python",
   "name": "python",
   "nbconvert_exporter": "python",
   "pygments_lexer": "ipython3",
   "version": "3.9.0"
  }
 },
 "nbformat": 4,
 "nbformat_minor": 5
}
